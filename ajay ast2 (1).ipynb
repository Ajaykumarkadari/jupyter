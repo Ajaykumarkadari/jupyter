{
 "cells": [
  {
   "cell_type": "code",
   "execution_count": 9,
   "id": "456f3884-4e5d-424b-899e-bd7242bae455",
   "metadata": {},
   "outputs": [
    {
     "name": "stdout",
     "output_type": "stream",
     "text": [
      "Sorted: [(1, 3), (6, 5), (7, 7), (3, 9), (5, 11)]\n"
     ]
    }
   ],
   "source": [
    "def last(a):\n",
    "    return a[-1] \n",
    "def sort(tuples):\n",
    "    return sorted(tuples, key=last) \n",
    "k=[(5, 11), (7, 7), (1, 3), (6,5), (3,9)]\n",
    "print(\"Sorted:\",(sort(k)))\n"
   ]
  },
  {
   "cell_type": "code",
   "execution_count": null,
   "id": "6480f264-b147-4504-94e4-129801ea2d41",
   "metadata": {},
   "outputs": [],
   "source": []
  }
 ],
 "metadata": {
  "kernelspec": {
   "display_name": "Python 3 (ipykernel)",
   "language": "python",
   "name": "python3"
  },
  "language_info": {
   "codemirror_mode": {
    "name": "ipython",
    "version": 3
   },
   "file_extension": ".py",
   "mimetype": "text/x-python",
   "name": "python",
   "nbconvert_exporter": "python",
   "pygments_lexer": "ipython3",
   "version": "3.10.9"
  }
 },
 "nbformat": 4,
 "nbformat_minor": 5
}
