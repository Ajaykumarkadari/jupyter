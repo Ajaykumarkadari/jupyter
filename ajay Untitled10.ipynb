{
 "cells": [
  {
   "cell_type": "code",
   "execution_count": 17,
   "id": "c5c4a71c",
   "metadata": {},
   "outputs": [
    {
     "name": "stdout",
     "output_type": "stream",
     "text": [
      "ramukyajA"
     ]
    }
   ],
   "source": [
    "A = \"Ajaykumar\"\n",
    "for i in range (len(A)-1,-1,-1):\n",
    "    print(A[i] ,end='' )"
   ]
  },
  {
   "cell_type": "code",
   "execution_count": 90,
   "id": "c9c1d696-6307-460e-a8d4-9b8dbf77726b",
   "metadata": {},
   "outputs": [
    {
     "name": "stdout",
     "output_type": "stream",
     "text": [
      "fibonacci series: 0 1 1 2 3 5 8 13 21 34 "
     ]
    }
   ],
   "source": [
    "n=10\n",
    "n1,n2=0,1\n",
    "print(\"fibonacci series:\",  n1, n2, end=\" \")\n",
    "for i in range(2,n):\n",
    "        n3 =n1 +n2\n",
    "        n1 = n2\n",
    "        n2 = n3\n",
    "        print(n3, end=\" \")\n",
    "        print"
   ]
  },
  {
   "cell_type": "code",
   "execution_count": 119,
   "id": "83b3c1dc-0cf9-4112-bb15-2507fcccc5d1",
   "metadata": {},
   "outputs": [
    {
     "name": "stdout",
     "output_type": "stream",
     "text": [
      "even num in the list : 6\n",
      "odd num in the list : 5\n"
     ]
    }
   ],
   "source": [
    "n =(0,1,2,3,4,5,6,7,8,9,10)\n",
    "even = 0\n",
    "odd = 0\n",
    "for num in n:\n",
    " if num % 2 == 0:\n",
    "   even += 1\n",
    " else:\n",
    "  odd += 1\n",
    "print(\"even num in the list :\", even)\n",
    "print(\"odd num in the list :\", odd)\n",
    "\n",
    "    \n"
   ]
  }
 ],
 "metadata": {
  "kernelspec": {
   "display_name": "Python 3 (ipykernel)",
   "language": "python",
   "name": "python3"
  },
  "language_info": {
   "codemirror_mode": {
    "name": "ipython",
    "version": 3
   },
   "file_extension": ".py",
   "mimetype": "text/x-python",
   "name": "python",
   "nbconvert_exporter": "python",
   "pygments_lexer": "ipython3",
   "version": "3.10.9"
  },
  "toc-autonumbering": true
 },
 "nbformat": 4,
 "nbformat_minor": 5
}
