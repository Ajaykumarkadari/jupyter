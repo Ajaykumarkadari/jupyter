{
 "cells": [
  {
   "cell_type": "code",
   "execution_count": 22,
   "id": "9e47c65a-c70d-45f1-93f8-b3c793585171",
   "metadata": {},
   "outputs": [
    {
     "name": "stdout",
     "output_type": "stream",
     "text": [
      "ASCII Dict: {'a': 97, 'b': 98, 'c': 99, 'd': 100, 'e': 101, 'f': 102, 'g': 103, 'h': 104, 'i': 105, 'j': 106, 'k': 107, 'l': 108, 'm': 109, 'n': 110, 'o': 111, 'p': 112, 'q': 113, 'r': 114, 's': 115, 't': 116, 'u': 117, 'v': 118, 'w': 119, 'x': 120, 'y': 121, 'z': 122}\n"
     ]
    }
   ],
   "source": [
    "ascii_dict = dict()\n",
    "\n",
    "for h in range(97,123):\n",
    "\n",
    "   ascii_dict[chr(h)]=h\n",
    "\n",
    "x=ascii_dict.keys()\n",
    "\n",
    "y=ascii_dict.values()\n",
    "\n",
    "print( 'ASCII Dict:', ascii_dict)\n",
    "\n"
   ]
  },
  {
   "cell_type": "code",
   "execution_count": null,
   "id": "6f72f5cc-c1f9-4b9a-a5de-221d03becfe5",
   "metadata": {},
   "outputs": [],
   "source": []
  }
 ],
 "metadata": {
  "kernelspec": {
   "display_name": "Python 3 (ipykernel)",
   "language": "python",
   "name": "python3"
  },
  "language_info": {
   "codemirror_mode": {
    "name": "ipython",
    "version": 3
   },
   "file_extension": ".py",
   "mimetype": "text/x-python",
   "name": "python",
   "nbconvert_exporter": "python",
   "pygments_lexer": "ipython3",
   "version": "3.10.9"
  }
 },
 "nbformat": 4,
 "nbformat_minor": 5
}
